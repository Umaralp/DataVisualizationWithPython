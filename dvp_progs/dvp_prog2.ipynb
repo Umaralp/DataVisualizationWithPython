{
  "nbformat": 4,
  "nbformat_minor": 0,
  "metadata": {
    "colab": {
      "provenance": []
    },
    "kernelspec": {
      "name": "python3",
      "display_name": "Python 3"
    },
    "language_info": {
      "name": "python"
    }
  },
  "cells": [
    {
      "cell_type": "markdown",
      "source": [
        "2) a) write a program to generate the fibonacci sequence of a given number"
      ],
      "metadata": {
        "id": "ocm_7R0vMuaT"
      }
    },
    {
      "cell_type": "code",
      "source": [
        "def fibonacci(n):\n",
        "  a=0\n",
        "  b=1\n",
        "  count=0\n",
        "  if(n<0):\n",
        "    print(\"invalid number\")\n",
        "  elif(n==1):\n",
        "    print(\"the fibonacci series of length:\",n,\"is:\")\n",
        "    print(a)\n",
        "  else:\n",
        "    print(\"fibonacci seequence:\")\n",
        "    while(count<n):\n",
        "      print(a)\n",
        "      c=a+b\n",
        "      a=b\n",
        "      b=c\n",
        "      count+=1\n",
        "n=int(input(\"enter the number of terms:\"))\n",
        "fibonacci(n)"
      ],
      "metadata": {
        "colab": {
          "base_uri": "https://localhost:8080/"
        },
        "id": "oKvdSPFaMyPK",
        "outputId": "1001c40d-552e-477d-da82-a68508cc83cb"
      },
      "execution_count": null,
      "outputs": [
        {
          "output_type": "stream",
          "name": "stdout",
          "text": [
            "enter the number of terms:5\n",
            "fibonacci seequence:\n",
            "0\n",
            "1\n",
            "1\n",
            "2\n",
            "3\n"
          ]
        }
      ]
    },
    {
      "cell_type": "markdown",
      "source": [
        "2) b) write a program to read binary number and octal number, then convert binary number to decimal number and octal number to hexadecimal number"
      ],
      "metadata": {
        "id": "pSn5KUy1NF00"
      }
    },
    {
      "cell_type": "code",
      "source": [
        "def binary_to_dec(binary):\n",
        "  try:\n",
        "    decimal=int(binary,2)\n",
        "    return decimal\n",
        "  except ValueError:\n",
        "    print(\"invalid binary number\")\n",
        "def octal_to_hex(octal):\n",
        "  try:\n",
        "    decimal=int(octal,8)\n",
        "    hexadecimal=hex(decimal)\n",
        "    return hexadecimal[2:].upper()\n",
        "    return hexadecimal\n",
        "  except ValueError:\n",
        "    print(\"invalid octal number\")\n",
        "binary_input=input(\"enter a binary number:\")\n",
        "octal_input=input(\"enter an octal number:\")\n",
        "decimal_result=binary_to_dec(binary_input)\n",
        "hexadecimal_result=octal_to_hex(octal_input)\n",
        "print(f\"binary to decimal:{binary_input}->{decimal_result}\")\n",
        "print(f\"octal to hexadecimal:{octal_input}->{hexadecimal_result}\")"
      ],
      "metadata": {
        "colab": {
          "base_uri": "https://localhost:8080/"
        },
        "id": "_K7iLELoNIrp",
        "outputId": "1c4a54ef-7f32-4b7c-bf6e-456644c67a40"
      },
      "execution_count": null,
      "outputs": [
        {
          "output_type": "stream",
          "name": "stdout",
          "text": [
            "enter a binary number:1100\n",
            "enter an octal number:34\n",
            "binary to decimal:1100->12\n",
            "octal to hexadecimal:34->1C\n"
          ]
        }
      ]
    }
  ]
}