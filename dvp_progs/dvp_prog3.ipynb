{
  "nbformat": 4,
  "nbformat_minor": 0,
  "metadata": {
    "colab": {
      "provenance": []
    },
    "kernelspec": {
      "name": "python3",
      "display_name": "Python 3"
    },
    "language_info": {
      "name": "python"
    }
  },
  "cells": [
    {
      "cell_type": "markdown",
      "source": [
        "3) a) write a program to read a sentence and display number of digits, words, upper and lower case letters"
      ],
      "metadata": {
        "id": "vLoWqHTyFC7k"
      }
    },
    {
      "cell_type": "code",
      "source": [
        "sentence=input(\"Enter a sentence: \")\n",
        "num_words=len(sentence.split())\n",
        "num_digits=0\n",
        "num_upper=0\n",
        "num_lower=0\n",
        "for char in sentence:\n",
        "    if char.isdigit():\n",
        "        num_digits+=1\n",
        "    elif char.isupper():\n",
        "        num_upper+=1\n",
        "    elif char.islower():\n",
        "        num_lower+=1\n",
        "print(\"Number of words: \",num_words)\n",
        "print(\"Number of digits: \",num_digits)\n",
        "print(\"Number of uppercase letters: \",num_upper)\n",
        "print(\"Number of lowercase letters: \",num_lower)"
      ],
      "metadata": {
        "colab": {
          "base_uri": "https://localhost:8080/"
        },
        "id": "nlqoL-NpFTXr",
        "outputId": "da5bc3fb-3dd3-48d4-b7a1-ae699a05f499"
      },
      "execution_count": null,
      "outputs": [
        {
          "output_type": "stream",
          "name": "stdout",
          "text": [
            "Enter a sentence:  We are Working in Python version 3.6\n",
            "Number of words:  7\n",
            "Number of digits:  2\n",
            "Number of uppercase letters:  3\n",
            "Number of lowercase letters:  24\n"
          ]
        }
      ]
    },
    {
      "cell_type": "markdown",
      "source": [
        "3) b) write a python program to read a set of strings and compute the similarity between the strings"
      ],
      "metadata": {
        "id": "0QOoS-HjFd8o"
      }
    },
    {
      "cell_type": "code",
      "source": [
        "from difflib import SequenceMatcher\n",
        "str1=\"PythonExcercises\"\n",
        "str2=\"PythonExcercise\"\n",
        "similarity=SequenceMatcher(None,str1,str2).ratio()\n",
        "print(\"original strings:\")\n",
        "print(str1)\n",
        "print(str2)\n",
        "print(\"similarity: \",similarity)"
      ],
      "metadata": {
        "colab": {
          "base_uri": "https://localhost:8080/"
        },
        "id": "7mNb8cIUFeYR",
        "outputId": "c80d5715-4561-45d5-f99e-58da4c2a65c2"
      },
      "execution_count": null,
      "outputs": [
        {
          "output_type": "stream",
          "name": "stdout",
          "text": [
            "original strings:\n",
            "PythonExcercises\n",
            "PythonExcercise\n",
            "similarity:  0.967741935483871\n"
          ]
        }
      ]
    }
  ]
}