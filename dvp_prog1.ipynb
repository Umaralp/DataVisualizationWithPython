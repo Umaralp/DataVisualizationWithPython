{
  "nbformat": 4,
  "nbformat_minor": 0,
  "metadata": {
    "colab": {
      "provenance": []
    },
    "kernelspec": {
      "name": "python3",
      "display_name": "Python 3"
    },
    "language_info": {
      "name": "python"
    }
  },
  "cells": [
    {
      "cell_type": "markdown",
      "source": [
        "1) a) write a program to find the best of 2 test average marks out of 3 test marks accepted from the user"
      ],
      "metadata": {
        "id": "iAbmBfxbHmdy"
      }
    },
    {
      "cell_type": "code",
      "source": [
        "name=input(\"enter a student name:\")\n",
        "usn=input(\"enter a usn:\")\n",
        "t1=int(input(\"enter marks of t1:\"))\n",
        "t2=int(input(\"enter marks of t2:\"))\n",
        "t3=int(input(\"enter marks of t3:\"))\n",
        "worst=min(t1,t2,t3)\n",
        "best_avg=(t1+t2+t3-worst)/2\n",
        "print(\"best of two average test marks=\",best_avg)"
      ],
      "metadata": {
        "colab": {
          "base_uri": "https://localhost:8080/"
        },
        "id": "Ar821SyKH87Q",
        "outputId": "e24b9872-484c-42bf-87be-2c801a7455bd"
      },
      "execution_count": null,
      "outputs": [
        {
          "output_type": "stream",
          "name": "stdout",
          "text": [
            "enter a student name:Umar\n",
            "enter a usn:1CG23CS037\n",
            "enter marks of t1:80\n",
            "enter marks of t2:90\n",
            "enter marks of t3:70\n",
            "best of two average test marks= 85.0\n"
          ]
        }
      ]
    },
    {
      "cell_type": "markdown",
      "source": [
        "1) b) develop a program to check whether a number is pallindrome or not and also count the number of occurences of each digit in the input number"
      ],
      "metadata": {
        "id": "1T4STHelIMXA"
      }
    },
    {
      "cell_type": "code",
      "source": [
        "num=int(input(\"Enter a number:\"))\n",
        "temp=num\n",
        "rev=0\n",
        "while(num>0):\n",
        "    dig=num%10\n",
        "    rev=rev*10+dig\n",
        "    num=num//10\n",
        "if(temp==rev):\n",
        "    print(\"The number\",temp,\"is a palindrome!\")\n",
        "else:\n",
        "    print(\"The number\",temp,\"is not a palindrome!\")\n",
        "dig_count={}\n",
        "for dig in str(temp):\n",
        "  if dig  in dig_count:\n",
        "    dig_count[dig]+=1\n",
        "  else:\n",
        "    dig_count[dig]=1\n",
        "print(\"Digits occurence in:\",temp)\n",
        "for dig,count in dig_count.items():\n",
        "  print(dig,\":\",count)"
      ],
      "metadata": {
        "colab": {
          "base_uri": "https://localhost:8080/"
        },
        "id": "yhIYUcnFIsvf",
        "outputId": "27e6f35b-dde9-4385-f3dc-e271abf4e9d9"
      },
      "execution_count": null,
      "outputs": [
        {
          "output_type": "stream",
          "name": "stdout",
          "text": [
            "Enter a number:121\n",
            "The number 121 is a palindrome!\n",
            "Digits occurence in: 121\n",
            "1 : 2\n",
            "2 : 1\n"
          ]
        }
      ]
    }
  ]
}